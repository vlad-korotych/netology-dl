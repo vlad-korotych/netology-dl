{
 "cells": [
  {
   "cell_type": "code",
   "execution_count": 1,
   "metadata": {},
   "outputs": [],
   "source": [
    "from sklearn.datasets import load_boston\n",
    "from sklearn.model_selection import train_test_split\n",
    "from torch.utils.data import TensorDataset, DataLoader\n",
    "import torch\n",
    "import numpy as np\n",
    "import matplotlib.pyplot as plt\n",
    "%matplotlib inline"
   ]
  },
  {
   "cell_type": "code",
   "execution_count": 2,
   "metadata": {},
   "outputs": [],
   "source": [
    "boston = load_boston()"
   ]
  },
  {
   "cell_type": "code",
   "execution_count": 3,
   "metadata": {},
   "outputs": [
    {
     "data": {
      "text/plain": [
       "(506, 13)"
      ]
     },
     "execution_count": 3,
     "metadata": {},
     "output_type": "execute_result"
    }
   ],
   "source": [
    "data = np.array(boston.data)\n",
    "data.shape"
   ]
  },
  {
   "cell_type": "code",
   "execution_count": 4,
   "metadata": {},
   "outputs": [],
   "source": [
    "data = (data - data.mean(axis=0)) / data.std(axis=0)"
   ]
  },
  {
   "cell_type": "code",
   "execution_count": 5,
   "metadata": {},
   "outputs": [],
   "source": [
    "X_train, X_test, y_train, y_test = train_test_split(data, boston.target, test_size=0.25, random_state=42)"
   ]
  },
  {
   "cell_type": "code",
   "execution_count": 25,
   "metadata": {},
   "outputs": [],
   "source": [
    "class TorchLinearRegression:\n",
    "    def __init__(self, lr=0.01, batch_size=10, num_epochs=10, std=True):\n",
    "        self.std = std # standardization\n",
    "        self.batch_size = batch_size\n",
    "        self.num_epochs = num_epochs\n",
    "        self.lr = lr\n",
    "        \n",
    "    def fit(self, X, y, debug=False):\n",
    "        self.X = torch.tensor(X, dtype=torch.float32).cuda()\n",
    "        self.y = torch.tensor(y, dtype=torch.float32).cuda()\n",
    "        if self.std:\n",
    "            self.X = (self.X - self.X.mean(dim=1, keepdim=True)) / self.X.std(dim=1, keepdim=True)\n",
    "        self.dataset = TensorDataset(self.X, self.y)\n",
    "        self.data_iter = DataLoader(self.dataset, self.batch_size, shuffle=True)\n",
    "        self.model = torch.nn.Sequential(torch.nn.Linear(X.shape[1], 1)).cuda()\n",
    "        self.loss = torch.nn.MSELoss()\n",
    "        self.optimizer = torch.optim.SGD(self.model.parameters(), self.lr)\n",
    "        self.losses = []\n",
    "\n",
    "        for epoch in range(1, self.num_epochs + 1):\n",
    "            for X_b, y_b in self.data_iter:\n",
    "                self.optimizer.zero_grad()\n",
    "                pred = self.model.forward(X_b).reshape(-1)\n",
    "                loss = self.loss(pred, y_b)\n",
    "                \n",
    "                loss.backward()\n",
    "                self.optimizer.step()\n",
    "                \n",
    "            pred = self.model.forward(self.X).reshape(-1)\n",
    "            loss = self.loss(pred, self.y)\n",
    "            self.losses.append(loss.item())\n",
    "            if debug:\n",
    "                print('epoch %d, loss: %f' % (epoch, loss.item()))\n",
    "                \n",
    "        self.bias = self.model[0].bias.data.item()\n",
    "        self.weights = self.model[0].weight.data.reshape(-1).tolist()\n",
    "    \n",
    "    def predict(self, X):\n",
    "        return self.model.forward(torch.tensor(X_test, dtype=torch.float32).cuda()).reshape(-1)\n",
    "    \n",
    "    def score(self, X, y):\n",
    "        return self.loss(self.predict(X), torch.tensor(y_test, dtype=torch.float32).cuda()).item()"
   ]
  },
  {
   "cell_type": "code",
   "execution_count": 26,
   "metadata": {},
   "outputs": [],
   "source": [
    "reg = TorchLinearRegression(num_epochs=20, lr=0.01)"
   ]
  },
  {
   "cell_type": "code",
   "execution_count": 27,
   "metadata": {},
   "outputs": [
    {
     "name": "stdout",
     "output_type": "stream",
     "text": [
      "epoch 1, loss: 131.667068\n",
      "epoch 2, loss: 55.522079\n",
      "epoch 3, loss: 37.127781\n",
      "epoch 4, loss: 32.070766\n",
      "epoch 5, loss: 30.596874\n",
      "epoch 6, loss: 30.057636\n",
      "epoch 7, loss: 29.832026\n",
      "epoch 8, loss: 29.768520\n",
      "epoch 9, loss: 29.672966\n",
      "epoch 10, loss: 29.651041\n",
      "epoch 11, loss: 29.609793\n",
      "epoch 12, loss: 29.687759\n",
      "epoch 13, loss: 29.854975\n",
      "epoch 14, loss: 29.651167\n",
      "epoch 15, loss: 29.651119\n",
      "epoch 16, loss: 29.562132\n",
      "epoch 17, loss: 29.560204\n",
      "epoch 18, loss: 29.593220\n",
      "epoch 19, loss: 30.129658\n",
      "epoch 20, loss: 29.727322\n"
     ]
    }
   ],
   "source": [
    "reg.fit(X_train, y_train, debug=True)"
   ]
  },
  {
   "cell_type": "code",
   "execution_count": 28,
   "metadata": {},
   "outputs": [
    {
     "data": {
      "text/plain": [
       "28.182008743286133"
      ]
     },
     "execution_count": 28,
     "metadata": {},
     "output_type": "execute_result"
    }
   ],
   "source": [
    "reg.score(X_test, y_test)"
   ]
  },
  {
   "cell_type": "code",
   "execution_count": 29,
   "metadata": {},
   "outputs": [
    {
     "data": {
      "text/plain": [
       "[-2.2902586460113525,\n",
       " 1.115311861038208,\n",
       " 0.35506555438041687,\n",
       " 1.6685271263122559,\n",
       " -0.7595237493515015,\n",
       " 3.629495143890381,\n",
       " -0.5173917412757874,\n",
       " -1.8204773664474487,\n",
       " 1.2740256786346436,\n",
       " -0.6326413154602051,\n",
       " -1.257485270500183,\n",
       " 1.5385892391204834,\n",
       " -2.3122920989990234]"
      ]
     },
     "execution_count": 29,
     "metadata": {},
     "output_type": "execute_result"
    }
   ],
   "source": [
    "reg.weights"
   ]
  },
  {
   "cell_type": "code",
   "execution_count": 30,
   "metadata": {},
   "outputs": [
    {
     "data": {
      "text/plain": [
       "22.222183227539062"
      ]
     },
     "execution_count": 30,
     "metadata": {},
     "output_type": "execute_result"
    }
   ],
   "source": [
    "reg.bias"
   ]
  },
  {
   "cell_type": "code",
   "execution_count": 31,
   "metadata": {},
   "outputs": [
    {
     "data": {
      "text/plain": [
       "[<matplotlib.lines.Line2D at 0x7fb2280760d0>]"
      ]
     },
     "execution_count": 31,
     "metadata": {},
     "output_type": "execute_result"
    },
    {
     "data": {
      "image/png": "[encoded data removed]",
      "text/plain": [
       "<Figure size 432x288 with 1 Axes>"
      ]
     },
     "metadata": {
      "needs_background": "light"
     },
     "output_type": "display_data"
    }
   ],
   "source": [
    "plt.plot(reg.losses)"
   ]
  },
  {
   "cell_type": "code",
   "execution_count": null,
   "metadata": {},
   "outputs": [],
   "source": []
  }
 ],
 "metadata": {
  "kernelspec": {
   "display_name": "Pytorch",
   "language": "python",
   "name": "pytorch"
  },
  "language_info": {
   "codemirror_mode": {
    "name": "ipython",
    "version": 3
   },
   "file_extension": ".py",
   "mimetype": "text/x-python",
   "name": "python",
   "nbconvert_exporter": "python",
   "pygments_lexer": "ipython3",
   "version": "3.7.4"
  }
 },
 "nbformat": 4,
 "nbformat_minor": 4
}
